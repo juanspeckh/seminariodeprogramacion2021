{
 "cells": [
  {
   "cell_type": "code",
   "execution_count": 1,
   "metadata": {},
   "outputs": [],
   "source": [
    "class Humano(): #Creamos la clase Humano\n",
    "    def __init__(self, edad, nombre, ocupacion,horas_laboradas, horas_sueño): #Definimos el parámetro edad , nombre y ocupación\n",
    "        self.edad = edad # Definimos que el atributo edad, sera la edad asignada\n",
    "        self.nombre = nombre # Definimos que el atributo nombre, sera el nombre asig\n",
    "        self.ocupacion = ocupacion #DEFINIMOS EL ATRIBUTO DE INSTANCIA OCUPACIÓN\n",
    "        self.horas=horas_laboradas\n",
    "        self.dia=self.edad*365 #Iniciamos en el día 0\n",
    "        self.estado='Despierto'\n",
    "        self.horas_sueño=horas_sueño\n",
    "        \n",
    "        #Creación de un nuevo método\n",
    "    def presentar(self):\n",
    "        presentacion = (\"Hola soy {name}, mi edad es {age}, mi ocupación es {ocu}, actualmente estoy {estado}, he trabajado {horas_trabajadas} horas y he dormido {horas_sueño} horas\") #Mensaje\n",
    "        print(presentacion.format(name=self.nombre, age=self.edad, ocu=self.ocupacion, horas_trabajadas=self.horas, horas_sueño=self.horas_sueño, estado=self.estado)) #Usamos FORMAT\n",
    "        \n",
    "    def dias_transcurridos(self,n):\n",
    "        if self.ocupacion!= 'Desocupado':\n",
    "            self.dia=self.dia+n\n",
    "            self.horas=self.horas+n*8\n",
    "        self.dia=self.dia+n\n",
    "        self.edad=int(self.dia/365)\n",
    "        print(f'Desde el día 0, han transcurrido {self.dia} días, y he trabajado {self.horas} horas')\n",
    "        \n",
    "        #Creamos un nuevo método para cambiar la ocupación:\n",
    "        #En caso que esta persona sea contratada\n",
    "        \n",
    "    def contratar(self, puesto): #añadimos un nuevo parámetro en el método\n",
    "        self.puesto = puesto\n",
    "        print (\"{name} ha sido contratado como {vac}\".format(name=self.nombre, vac=self.puesto))\n",
    "        self.ocupacion = puesto#Ahora cambiamos el atributo ocupación\n",
    "        \n",
    "    def despedir (self): #añadimos un nuevo parámetro en el método\n",
    "        if self.ocupacion!= 'Desocupado':\n",
    "            print (f\"{self.nombre} ha sido despedido como {self.ocupacion}\")\n",
    "            self.ocupacion = 'Desocupado'#Ahora cambiamos el atributo ocupación\n",
    "        else:\n",
    "            print (f\"{self.nombre} actualmente esta {self.ocupacion}\")\n",
    "                     \n",
    "    def cumplio_anios(self):\n",
    "        self.edad=self.edad+1\n",
    "        self.dia=self.edad*365\n",
    "        print(\"Feliz cumpleaños te deseamos a ti, {name}\".format(name=self.nombre))\n",
    "    \n",
    "    def dormir(self, horas_sueño):\n",
    "        if self.estado== 'Despierto':\n",
    "            self.estado='Dormido'\n",
    "            self.horas_sueño=self.horas_sueño+horas_sueño\n",
    "        print(f'Desde el día 0, has dormido {self.horas_sueño} horas')\n",
    "        \n",
    "    def despertar(self):\n",
    "        if self.estado!= 'Despierto':\n",
    "            self.estado='Despierto'\n",
    "            print(f\"{self.nombre} ya se encuentra {self.estado}\")    \n",
    "        else:\n",
    "            print(f\"{self.nombre} ya estaba {self.estado}\")    \n",
    "        \n",
    "    def distribucion_tiempo (self):\n",
    "        horas_vividas=(self.edad*365)*24\n",
    "        self.horas_sueño=self.horas_sueño\n",
    "        self.horas=self.horas\n",
    "        print(f'Desde el día 0, he vivido {horas_vividas}, de las cuales he dormido el {(self.horas_sueño/horas_vividas)*100}% y he trabajado {(self.horas/horas_vividas)*100}%')\n"
   ]
  },
  {
   "cell_type": "code",
   "execution_count": 2,
   "metadata": {},
   "outputs": [
    {
     "name": "stdout",
     "output_type": "stream",
     "text": [
      "Hola soy Pedro, mi edad es 31, mi ocupación es Desocupado, actualmente estoy Despierto, he trabajado 400 horas y he dormido 1200 horas\n"
     ]
    }
   ],
   "source": [
    "Persona1 = Humano(31, \"Pedro\", \"Desocupado\",400,1200) #Instancia\n",
    "Persona1.presentar() "
   ]
  },
  {
   "cell_type": "code",
   "execution_count": 3,
   "metadata": {},
   "outputs": [
    {
     "name": "stdout",
     "output_type": "stream",
     "text": [
      "Desde el día 0, han transcurrido 11335 días, y he trabajado 400 horas\n"
     ]
    }
   ],
   "source": [
    "Persona1.dias_transcurridos(20)"
   ]
  },
  {
   "cell_type": "code",
   "execution_count": 4,
   "metadata": {},
   "outputs": [
    {
     "name": "stdout",
     "output_type": "stream",
     "text": [
      "Pedro ha sido contratado como Obrero\n"
     ]
    }
   ],
   "source": [
    "Persona1.contratar(\"Obrero\")"
   ]
  },
  {
   "cell_type": "code",
   "execution_count": 5,
   "metadata": {},
   "outputs": [
    {
     "name": "stdout",
     "output_type": "stream",
     "text": [
      "Desde el día 0, has dormido 1208 horas\n"
     ]
    }
   ],
   "source": [
    "Persona1.dormir(8)"
   ]
  },
  {
   "cell_type": "code",
   "execution_count": 6,
   "metadata": {},
   "outputs": [
    {
     "name": "stdout",
     "output_type": "stream",
     "text": [
      "Pedro ya se encuentra Despierto\n"
     ]
    }
   ],
   "source": [
    "Persona1.despertar()"
   ]
  },
  {
   "cell_type": "code",
   "execution_count": 7,
   "metadata": {},
   "outputs": [
    {
     "name": "stdout",
     "output_type": "stream",
     "text": [
      "Pedro ha sido despedido como Obrero\n"
     ]
    }
   ],
   "source": [
    "Persona1.despedir()"
   ]
  },
  {
   "cell_type": "code",
   "execution_count": 8,
   "metadata": {},
   "outputs": [
    {
     "name": "stdout",
     "output_type": "stream",
     "text": [
      "Pedro ha sido contratado como Contador\n"
     ]
    }
   ],
   "source": [
    "Persona1.contratar('Contador')"
   ]
  },
  {
   "cell_type": "code",
   "execution_count": 9,
   "metadata": {},
   "outputs": [
    {
     "name": "stdout",
     "output_type": "stream",
     "text": [
      "Desde el día 0, han transcurrido 15335 días, y he trabajado 16400 horas\n"
     ]
    }
   ],
   "source": [
    "Persona1.dias_transcurridos(2000)"
   ]
  },
  {
   "cell_type": "code",
   "execution_count": 10,
   "metadata": {},
   "outputs": [
    {
     "name": "stdout",
     "output_type": "stream",
     "text": [
      "Feliz cumpleaños te deseamos a ti, Pedro\n"
     ]
    }
   ],
   "source": [
    "Persona1.cumplio_anios()"
   ]
  },
  {
   "cell_type": "code",
   "execution_count": 11,
   "metadata": {},
   "outputs": [
    {
     "name": "stdout",
     "output_type": "stream",
     "text": [
      "Hola soy Pedro, mi edad es 43, mi ocupación es Contador, actualmente estoy Despierto, he trabajado 16400 horas y he dormido 1208 horas\n"
     ]
    }
   ],
   "source": [
    "Persona1.presentar()"
   ]
  },
  {
   "cell_type": "code",
   "execution_count": 13,
   "metadata": {},
   "outputs": [
    {
     "name": "stdout",
     "output_type": "stream",
     "text": [
      "Hola soy Pedro, mi edad es 43, mi ocupación es Contador, actualmente estoy Despierto, he trabajado 16400 horas y he dormido 1208 horas\n"
     ]
    }
   ],
   "source": [
    "Persona1.presentar()"
   ]
  },
  {
   "cell_type": "code",
   "execution_count": 12,
   "metadata": {},
   "outputs": [
    {
     "name": "stdout",
     "output_type": "stream",
     "text": [
      "Desde el día 0, he vivido 376680, de las cuales he dormido el 0.3206966125092917% y he trabajado 4.3538281830731655%\n"
     ]
    }
   ],
   "source": [
    "Persona1.distribucion_tiempo()"
   ]
  }
 ],
 "metadata": {
  "kernelspec": {
   "display_name": "Python 3",
   "language": "python",
   "name": "python3"
  },
  "language_info": {
   "codemirror_mode": {
    "name": "ipython",
    "version": 3
   },
   "file_extension": ".py",
   "mimetype": "text/x-python",
   "name": "python",
   "nbconvert_exporter": "python",
   "pygments_lexer": "ipython3",
   "version": "3.8.5"
  }
 },
 "nbformat": 4,
 "nbformat_minor": 4
}
